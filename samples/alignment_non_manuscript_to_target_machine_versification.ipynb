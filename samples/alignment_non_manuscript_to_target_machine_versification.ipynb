{
 "cells": [
  {
   "cell_type": "markdown",
   "id": "37037e72",
   "metadata": {},
   "source": [
    "# Aligning non-manuscript source to target using Machine/SIL versification\n",
    "\n"
   ]
  },
  {
   "cell_type": "code",
   "execution_count": 1,
   "id": "7788477f",
   "metadata": {},
   "outputs": [
    {
     "data": {
      "text/html": [
       "\r\n",
       "<div>\r\n",
       "    <div id='dotnet-interactive-this-cell-16780.Microsoft.DotNet.Interactive.Http.HttpPort' style='display: none'>\r\n",
       "        The below script needs to be able to find the current output cell; this is an easy method to get it.\r\n",
       "    </div>\r\n",
       "    <script type='text/javascript'>\r\n",
       "async function probeAddresses(probingAddresses) {\r\n",
       "    function timeout(ms, promise) {\r\n",
       "        return new Promise(function (resolve, reject) {\r\n",
       "            setTimeout(function () {\r\n",
       "                reject(new Error('timeout'))\r\n",
       "            }, ms)\r\n",
       "            promise.then(resolve, reject)\r\n",
       "        })\r\n",
       "    }\r\n",
       "\r\n",
       "    if (Array.isArray(probingAddresses)) {\r\n",
       "        for (let i = 0; i < probingAddresses.length; i++) {\r\n",
       "\r\n",
       "            let rootUrl = probingAddresses[i];\r\n",
       "\r\n",
       "            if (!rootUrl.endsWith('/')) {\r\n",
       "                rootUrl = `${rootUrl}/`;\r\n",
       "            }\r\n",
       "\r\n",
       "            try {\r\n",
       "                let response = await timeout(1000, fetch(`${rootUrl}discovery`, {\r\n",
       "                    method: 'POST',\r\n",
       "                    cache: 'no-cache',\r\n",
       "                    mode: 'cors',\r\n",
       "                    timeout: 1000,\r\n",
       "                    headers: {\r\n",
       "                        'Content-Type': 'text/plain'\r\n",
       "                    },\r\n",
       "                    body: probingAddresses[i]\r\n",
       "                }));\r\n",
       "\r\n",
       "                if (response.status == 200) {\r\n",
       "                    return rootUrl;\r\n",
       "                }\r\n",
       "            }\r\n",
       "            catch (e) { }\r\n",
       "        }\r\n",
       "    }\r\n",
       "}\r\n",
       "\r\n",
       "function loadDotnetInteractiveApi() {\r\n",
       "    probeAddresses([\"http://172.17.208.1:1000/\", \"http://192.168.56.1:1000/\", \"http://192.168.0.22:1000/\", \"http://127.0.0.1:1000/\"])\r\n",
       "        .then((root) => {\r\n",
       "        // use probing to find host url and api resources\r\n",
       "        // load interactive helpers and language services\r\n",
       "        let dotnetInteractiveRequire = require.config({\r\n",
       "        context: '16780.Microsoft.DotNet.Interactive.Http.HttpPort',\r\n",
       "                paths:\r\n",
       "            {\r\n",
       "                'dotnet-interactive': `${root}resources`\r\n",
       "                }\r\n",
       "        }) || require;\r\n",
       "\r\n",
       "            window.dotnetInteractiveRequire = dotnetInteractiveRequire;\r\n",
       "\r\n",
       "            window.configureRequireFromExtension = function(extensionName, extensionCacheBuster) {\r\n",
       "                let paths = {};\r\n",
       "                paths[extensionName] = `${root}extensions/${extensionName}/resources/`;\r\n",
       "                \r\n",
       "                let internalRequire = require.config({\r\n",
       "                    context: extensionCacheBuster,\r\n",
       "                    paths: paths,\r\n",
       "                    urlArgs: `cacheBuster=${extensionCacheBuster}`\r\n",
       "                    }) || require;\r\n",
       "\r\n",
       "                return internalRequire\r\n",
       "            };\r\n",
       "        \r\n",
       "            dotnetInteractiveRequire([\r\n",
       "                    'dotnet-interactive/dotnet-interactive'\r\n",
       "                ],\r\n",
       "                function (dotnet) {\r\n",
       "                    dotnet.init(window);\r\n",
       "                },\r\n",
       "                function (error) {\r\n",
       "                    console.log(error);\r\n",
       "                }\r\n",
       "            );\r\n",
       "        })\r\n",
       "        .catch(error => {console.log(error);});\r\n",
       "    }\r\n",
       "\r\n",
       "// ensure `require` is available globally\r\n",
       "if ((typeof(require) !==  typeof(Function)) || (typeof(require.config) !== typeof(Function))) {\r\n",
       "    let require_script = document.createElement('script');\r\n",
       "    require_script.setAttribute('src', 'https://cdnjs.cloudflare.com/ajax/libs/require.js/2.3.6/require.min.js');\r\n",
       "    require_script.setAttribute('type', 'text/javascript');\r\n",
       "    \r\n",
       "    \r\n",
       "    require_script.onload = function() {\r\n",
       "        loadDotnetInteractiveApi();\r\n",
       "    };\r\n",
       "\r\n",
       "    document.getElementsByTagName('head')[0].appendChild(require_script);\r\n",
       "}\r\n",
       "else {\r\n",
       "    loadDotnetInteractiveApi();\r\n",
       "}\r\n",
       "\r\n",
       "    </script>\r\n",
       "</div>"
      ]
     },
     "metadata": {},
     "output_type": "display_data"
    },
    {
     "data": {
      "text/html": [
       "<div><div></div><div></div><div><strong>Installed Packages</strong><ul><li><span>SIL.Scripture, 7.0.0</span></li><li><span>Thot, 3.3.5</span></li></ul></div></div>"
      ]
     },
     "metadata": {},
     "output_type": "display_data"
    }
   ],
   "source": [
    "#r \"nuget:SIL.Scripture,7.0.0\"\n",
    "#r \"nuget:Thot,3.3.5\"\n",
    "#r \"../src/ClearBible.Engine/bin/Debug/net6.0/ClearBible.Engine.dll\"\n",
    "#r \"../../machine/src/SIL.Machine/bin/Debug/netstandard2.0/SIL.Machine.dll\"\n",
    "#r \"../../machine/src/SIL.Machine.Translation.Thot/bin/Debug/netstandard2.0/SIL.Machine.Translation.Thot.dll\"\n",
    "\n",
    "using SIL.Machine.Corpora;\n",
    "using SIL.Machine.Tokenization;\n",
    "using SIL.Machine.Translation;\n",
    "using SIL.Machine.Translation.Thot;\n",
    "using static SIL.Machine.Corpora.TokenProcessors;\n",
    "using SIL.Machine.Utils;\n",
    "\n",
    "using ClearBible.Engine.Translation;\n",
    "using ClearBible.Engine.Corpora;\n",
    "using ClearBible.Engine.Persistence;\n",
    "using ClearBible.Engine.Tokenization;"
   ]
  },
  {
   "cell_type": "markdown",
   "id": "a725c97d",
   "metadata": {},
   "source": [
    "## Prepare corpora"
   ]
  },
  {
   "cell_type": "code",
   "execution_count": 2,
   "id": "1176d354",
   "metadata": {},
   "outputs": [],
   "source": [
    "var sourceCorpus = new ParatextTextCorpus(\"data/VBL-PT\")\n",
    "    .Tokenize<LatinWordTokenizer>();\n",
    "\n",
    "var targetCorpus = new ParatextTextCorpus(\"data/WEB-PT\")\n",
    "    .Tokenize<LatinWordTokenizer>();\n",
    "\n",
    "var parallelTextCorpus = sourceCorpus.EngineAlignRows(targetCorpus, new());"
   ]
  },
  {
   "cell_type": "markdown",
   "id": "fc245e76",
   "metadata": {},
   "source": [
    "## Approach 1: save model then load it to get alignments"
   ]
  },
  {
   "cell_type": "code",
   "execution_count": 3,
   "id": "45c6e6ae",
   "metadata": {},
   "outputs": [
    {
     "name": "stdout",
     "output_type": "stream",
     "text": [
      "Training direct alignment model: 0.00%\n",
      "Training direct alignment model: 0.00%\n",
      "Training direct alignment model: 8.33%\n",
      "Training direct alignment model: 16.67%\n",
      "Training direct alignment model: 25.00%\n",
      "Training direct alignment model: 33.33%\n",
      "Training direct alignment model: 41.67%\n",
      "Training direct alignment model: 50.00%\n",
      "Training inverse alignment model: 50.00%\n",
      "Training inverse alignment model: 50.00%\n",
      "Training inverse alignment model: 58.33%\n",
      "Training inverse alignment model: 66.67%\n",
      "Training inverse alignment model: 75.00%\n",
      "Training inverse alignment model: 83.33%\n",
      "Training inverse alignment model: 91.67%\n",
      "Training inverse alignment model: 100.00%\n",
      "Symmetrized FastAlign model saved\n"
     ]
    }
   ],
   "source": [
    "using System.IO;\n",
    "\n",
    "Directory.CreateDirectory(\"out/VBL-WEB-FASTALIGN\");\n",
    "{\n",
    "    using var srcTrgTrainer = new ThotWordAlignmentModelTrainer(ThotWordAlignmentModelType.FastAlign, parallelTextCorpus.Lowercase(),\n",
    "        \"out/VBL-WEB-FASTALIGN/src_trg\");\n",
    "    using var trgSrcTrainer = new ThotWordAlignmentModelTrainer(ThotWordAlignmentModelType.FastAlign,\n",
    "        parallelTextCorpus.Invert().Lowercase(), \"out/VBL-WEB-FASTALIGN/trg_src\");\n",
    "    using var symmetrizedTrainer = new SymmetrizedWordAlignmentModelTrainer(srcTrgTrainer, trgSrcTrainer);\n",
    "    symmetrizedTrainer.Train(new DelegateProgress(status =>\n",
    "        Console.WriteLine($\"{status.Message}: {status.PercentCompleted:P}\")));\n",
    "    symmetrizedTrainer.Save();\n",
    "    Console.WriteLine(\"Symmetrized FastAlign model saved\");\n",
    "}"
   ]
  },
  {
   "cell_type": "code",
   "execution_count": 4,
   "id": "7e7d8960",
   "metadata": {},
   "outputs": [
    {
     "name": "stderr",
     "output_type": "stream",
     "text": [
      "\r\n",
      "(10,25): error CS0103: The name 'symmetrizedModel' does not exist in the current context\r\n",
      "\r\n"
     ]
    },
    {
     "ename": "Cell not executed",
     "evalue": "compilation error",
     "output_type": "error",
     "traceback": []
    }
   ],
   "source": [
    "{\n",
    "    using var srcTrgModel = new ThotFastAlignWordAlignmentModel(\"out/VBL-WEB-FASTALIGN/src_trg\");\n",
    "    using var trgSrcModel = new ThotFastAlignWordAlignmentModel(\"out/VBL-WEB-FASTALIGN/trg_src\");\n",
    "    using var symmetrizedModel = new SymmetrizedWordAlignmentModel(srcTrgModel, trgSrcModel)\n",
    "    {\n",
    "        Heuristic = SymmetrizationHeuristic.GrowDiagFinalAnd\n",
    "    };\n",
    "    foreach (ParallelTextRow textRow in parallelTextCorpus.Take(5))\n",
    "    {\n",
    "        var alignment = symmetrizedModel.GetBestAlignment(textRow.SourceSegment,\n",
    "            textRow.TargetSegment);\n",
    "\n",
    "        var verseRefStr = textRow.Ref.ToString();\n",
    "        var sourceVerseText = string.Join(\" \", textRow.SourceSegment);\n",
    "        var targetVerseText = string.Join(\" \", textRow.TargetSegment);\n",
    "        Console.WriteLine(verseRefStr);\n",
    "        Console.WriteLine($\"Source: {sourceVerseText}\");\n",
    "        Console.WriteLine($\"Target: {targetVerseText}\");\n",
    "        Console.WriteLine($\"Alignment    : {alignment}\");\n",
    "    }\n",
    "}"
   ]
  },
  {
   "cell_type": "markdown",
   "id": "a6017951",
   "metadata": {},
   "source": [
    "## Approach 2: don't save model and get alignments"
   ]
  },
  {
   "cell_type": "code",
   "execution_count": 5,
   "id": "3a2d8b90",
   "metadata": {},
   "outputs": [
    {
     "name": "stderr",
     "output_type": "stream",
     "text": [
      "\r\n",
      "(3,57): error CS0103: The name 'parallelCorpus' does not exist in the current context\r\n",
      "\r\n",
      "(10,57): error CS0103: The name 'parallelCorpus' does not exist in the current context\r\n",
      "\r\n",
      "(22,25): error CS0103: The name 'symmetrizedModel' does not exist in the current context\r\n",
      "\r\n"
     ]
    },
    {
     "ename": "Cell not executed",
     "evalue": "compilation error",
     "output_type": "error",
     "traceback": []
    }
   ],
   "source": [
    "{\n",
    "    using var srcTrgModel = new ThotFastAlignWordAlignmentModel();\n",
    "    using var trainerSrcTrg = srcTrgModel.CreateTrainer(parallelTextCorpus.Lowercase());\n",
    "    trainerSrcTrg.Train(new DelegateProgress(status =>\n",
    "        Console.WriteLine($\"Training FastAlign model: {status.PercentCompleted:P}\")));\n",
    "    trainerSrcTrg.Save();\n",
    "    \n",
    "\n",
    "    using var trgSrcModel = new ThotFastAlignWordAlignmentModel();\n",
    "    using var trainerTrgSrc = trgSrcModel.CreateTrainer(parallelCorpus.Invert().Lowercase());\n",
    "    trainerTrgSrc.Train(new DelegateProgress(status =>\n",
    "        Console.WriteLine($\"Training FastAlign model: {status.PercentCompleted:P}\")));\n",
    "    trainerTrgSrc.Save();\n",
    "\n",
    "    \n",
    "    using var symmetrizedModel = new SymmetrizedWordAlignmentModel(srcTrgModel, trgSrcModel)\n",
    "    {\n",
    "        Heuristic = SymmetrizationHeuristic.GrowDiagFinalAnd\n",
    "    };\n",
    "    foreach (ParallelTextRow textRow in parallelTextCorpus.Take(5))\n",
    "    {\n",
    "        var alignment = symmetrizedModel.GetBestAlignment(textRow.SourceSegment,\n",
    "            textRow.TargetSegment);\n",
    "\n",
    "        var verseRefStr = textRow.Ref.ToString();\n",
    "        var sourceVerseText = string.Join(\" \", textRow.SourceSegment);\n",
    "        var targetVerseText = string.Join(\" \", textRow.TargetSegment);\n",
    "        Console.WriteLine(verseRefStr);\n",
    "        Console.WriteLine($\"Source: {sourceVerseText}\");\n",
    "        Console.WriteLine($\"Target: {targetVerseText}\");\n",
    "        Console.WriteLine($\"Alignment    : {alignment}\");\n",
    "    }\n",
    "}\n"
   ]
  }
 ],
 "metadata": {
  "kernelspec": {
   "display_name": ".NET (C#)",
   "language": "C#",
   "name": ".net-csharp"
  },
  "language_info": {
   "file_extension": ".cs",
   "mimetype": "text/x-csharp",
   "name": "C#",
   "pygments_lexer": "csharp",
   "version": "9.0"
  }
 },
 "nbformat": 4,
 "nbformat_minor": 5
}
