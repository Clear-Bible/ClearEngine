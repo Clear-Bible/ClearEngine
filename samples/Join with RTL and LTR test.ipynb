{
 "cells": [
  {
   "cell_type": "code",
   "execution_count": 13,
   "id": "2b837790",
   "metadata": {},
   "outputs": [
    {
     "name": "stdout",
     "output_type": "stream",
     "text": [
      "בְּרֵאשִׁ֖ית_הארץ\n",
      "fee_fi\n",
      "בְּרֵאשִׁ֖ית_fi\n",
      "fee_הארץ\n"
     ]
    }
   ],
   "source": [
    "{\n",
    "    string heb1 = \"בְּרֵאשִׁ֖ית\";\n",
    "    string heb2 = \"הארץ\";\n",
    "    string eng1 = \"fee\";\n",
    "    string eng2 = \"fi\";\n",
    "\n",
    "    var arr = new List<string>() {heb1, heb2};\n",
    "    Console.WriteLine(string.Join(\"_\", arr.Select(s => s)));\n",
    "\n",
    "    arr = new List<string>() {eng1, eng2};\n",
    "    Console.WriteLine(string.Join(\"_\", arr.Select(s => s)));\n",
    "\n",
    "    arr = new List<string>() {heb1, eng2};\n",
    "    Console.WriteLine(string.Join(\"_\", arr.Select(s => s)));\n",
    "\n",
    "    arr = new List<string>() {eng1, heb2};\n",
    "    Console.WriteLine(string.Join(\"_\", arr.Select(s => s)));\n",
    "}"
   ]
  },
  {
   "cell_type": "code",
   "execution_count": null,
   "id": "b2af70a6",
   "metadata": {},
   "outputs": [],
   "source": []
  }
 ],
 "metadata": {
  "kernelspec": {
   "display_name": ".NET (C#)",
   "language": "C#",
   "name": ".net-csharp"
  },
  "language_info": {
   "file_extension": ".cs",
   "mimetype": "text/x-csharp",
   "name": "C#",
   "pygments_lexer": "csharp",
   "version": "11.0"
  }
 },
 "nbformat": 4,
 "nbformat_minor": 5
}
