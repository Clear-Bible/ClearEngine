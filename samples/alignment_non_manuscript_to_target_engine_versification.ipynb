{
 "cells": [
  {
   "cell_type": "markdown",
   "id": "37037e72",
   "metadata": {},
   "source": [
    "# Aligning non-manuscript source to target using Engine versification\n",
    "\n"
   ]
  },
  {
   "cell_type": "code",
   "execution_count": 1,
   "id": "7788477f",
   "metadata": {},
   "outputs": [
    {
     "data": {
      "text/html": [
       "\r\n",
       "<div>\r\n",
       "    <div id='dotnet-interactive-this-cell-141544.Microsoft.DotNet.Interactive.Http.HttpPort' style='display: none'>\r\n",
       "        The below script needs to be able to find the current output cell; this is an easy method to get it.\r\n",
       "    </div>\r\n",
       "    <script type='text/javascript'>\r\n",
       "async function probeAddresses(probingAddresses) {\r\n",
       "    function timeout(ms, promise) {\r\n",
       "        return new Promise(function (resolve, reject) {\r\n",
       "            setTimeout(function () {\r\n",
       "                reject(new Error('timeout'))\r\n",
       "            }, ms)\r\n",
       "            promise.then(resolve, reject)\r\n",
       "        })\r\n",
       "    }\r\n",
       "\r\n",
       "    if (Array.isArray(probingAddresses)) {\r\n",
       "        for (let i = 0; i < probingAddresses.length; i++) {\r\n",
       "\r\n",
       "            let rootUrl = probingAddresses[i];\r\n",
       "\r\n",
       "            if (!rootUrl.endsWith('/')) {\r\n",
       "                rootUrl = `${rootUrl}/`;\r\n",
       "            }\r\n",
       "\r\n",
       "            try {\r\n",
       "                let response = await timeout(1000, fetch(`${rootUrl}discovery`, {\r\n",
       "                    method: 'POST',\r\n",
       "                    cache: 'no-cache',\r\n",
       "                    mode: 'cors',\r\n",
       "                    timeout: 1000,\r\n",
       "                    headers: {\r\n",
       "                        'Content-Type': 'text/plain'\r\n",
       "                    },\r\n",
       "                    body: probingAddresses[i]\r\n",
       "                }));\r\n",
       "\r\n",
       "                if (response.status == 200) {\r\n",
       "                    return rootUrl;\r\n",
       "                }\r\n",
       "            }\r\n",
       "            catch (e) { }\r\n",
       "        }\r\n",
       "    }\r\n",
       "}\r\n",
       "\r\n",
       "function loadDotnetInteractiveApi() {\r\n",
       "    probeAddresses([\"http://172.17.128.1:1003/\", \"http://192.168.56.1:1003/\", \"http://192.168.0.22:1003/\", \"http://127.0.0.1:1003/\"])\r\n",
       "        .then((root) => {\r\n",
       "        // use probing to find host url and api resources\r\n",
       "        // load interactive helpers and language services\r\n",
       "        let dotnetInteractiveRequire = require.config({\r\n",
       "        context: '141544.Microsoft.DotNet.Interactive.Http.HttpPort',\r\n",
       "                paths:\r\n",
       "            {\r\n",
       "                'dotnet-interactive': `${root}resources`\r\n",
       "                }\r\n",
       "        }) || require;\r\n",
       "\r\n",
       "            window.dotnetInteractiveRequire = dotnetInteractiveRequire;\r\n",
       "\r\n",
       "            window.configureRequireFromExtension = function(extensionName, extensionCacheBuster) {\r\n",
       "                let paths = {};\r\n",
       "                paths[extensionName] = `${root}extensions/${extensionName}/resources/`;\r\n",
       "                \r\n",
       "                let internalRequire = require.config({\r\n",
       "                    context: extensionCacheBuster,\r\n",
       "                    paths: paths,\r\n",
       "                    urlArgs: `cacheBuster=${extensionCacheBuster}`\r\n",
       "                    }) || require;\r\n",
       "\r\n",
       "                return internalRequire\r\n",
       "            };\r\n",
       "        \r\n",
       "            dotnetInteractiveRequire([\r\n",
       "                    'dotnet-interactive/dotnet-interactive'\r\n",
       "                ],\r\n",
       "                function (dotnet) {\r\n",
       "                    dotnet.init(window);\r\n",
       "                },\r\n",
       "                function (error) {\r\n",
       "                    console.log(error);\r\n",
       "                }\r\n",
       "            );\r\n",
       "        })\r\n",
       "        .catch(error => {console.log(error);});\r\n",
       "    }\r\n",
       "\r\n",
       "// ensure `require` is available globally\r\n",
       "if ((typeof(require) !==  typeof(Function)) || (typeof(require.config) !== typeof(Function))) {\r\n",
       "    let require_script = document.createElement('script');\r\n",
       "    require_script.setAttribute('src', 'https://cdnjs.cloudflare.com/ajax/libs/require.js/2.3.6/require.min.js');\r\n",
       "    require_script.setAttribute('type', 'text/javascript');\r\n",
       "    \r\n",
       "    \r\n",
       "    require_script.onload = function() {\r\n",
       "        loadDotnetInteractiveApi();\r\n",
       "    };\r\n",
       "\r\n",
       "    document.getElementsByTagName('head')[0].appendChild(require_script);\r\n",
       "}\r\n",
       "else {\r\n",
       "    loadDotnetInteractiveApi();\r\n",
       "}\r\n",
       "\r\n",
       "    </script>\r\n",
       "</div>"
      ]
     },
     "metadata": {},
     "output_type": "display_data"
    },
    {
     "data": {
      "text/html": [
       "<div><div></div><div></div><div><strong>Installed Packages</strong><ul><li><span>SIL.Machine, 2.5.11</span></li><li><span>SIL.Machine.Translation.Thot, 2.5.11</span></li></ul></div></div>"
      ]
     },
     "metadata": {},
     "output_type": "display_data"
    }
   ],
   "source": [
    "#r \"nuget:SIL.Machine,2.5.11\"\n",
    "#r \"nuget:SIL.Machine.Translation.Thot,2.5.11\"\n",
    "#r \"../src/ClearBible.Engine/bin/Debug/net6.0/ClearBible.Engine.dll\"\n",
    "\n",
    "using ClearBible.Engine.Utils;\n",
    "using SIL.Machine.Corpora;\n",
    "using SIL.Machine.Tokenization;\n",
    "using SIL.Machine.Translation.Thot;\n",
    "using SIL.Machine.Utils;\n",
    "using SIL.Machine.Translation;"
   ]
  },
  {
   "cell_type": "markdown",
   "id": "a725c97d",
   "metadata": {},
   "source": [
    "## Prepare corpora"
   ]
  },
  {
   "cell_type": "code",
   "execution_count": 2,
   "id": "1176d354",
   "metadata": {},
   "outputs": [],
   "source": [
    "var tokenizer = new LatinWordTokenizer();\n",
    "var sourceCorpus = new EngineParatextTextCorpus(tokenizer, \"data/VBL-PT\");\n",
    "var targetCorpus = new EngineParatextTextCorpus(tokenizer, \"data/WEB-PT\");\n",
    "var parallelCorpus = new EngineParallelTextCorpus(sourceCorpus, targetCorpus);"
   ]
  },
  {
   "cell_type": "markdown",
   "id": "49d7f736",
   "metadata": {},
   "source": [
    "When not supplied an Engine versificaiton, `EngineParallelTextCorpus` generates one based on Machine / SIL's\n",
    "versification. This mapping is obtained and can be modified as follows:"
   ]
  },
  {
   "cell_type": "code",
   "execution_count": null,
   "id": "b625ba0b",
   "metadata": {},
   "outputs": [],
   "source": [
    "var engineVersificationMapping = parallelCorpus.SourceTargetParallelVersesList;\n"
   ]
  },
  {
   "cell_type": "markdown",
   "id": "fc245e76",
   "metadata": {},
   "source": [
    "## Approach 1: save model then load it to get alignments"
   ]
  },
  {
   "cell_type": "code",
   "execution_count": 3,
   "id": "45c6e6ae",
   "metadata": {},
   "outputs": [
    {
     "name": "stdout",
     "output_type": "stream",
     "text": [
      "Training direct alignment model: 0.00%\n",
      "Training direct alignment model: 0.00%\n",
      "Training direct alignment model: 8.33%\n",
      "Training direct alignment model: 16.67%\n",
      "Training direct alignment model: 25.00%\n",
      "Training direct alignment model: 33.33%\n",
      "Training direct alignment model: 41.67%\n",
      "Training direct alignment model: 50.00%\n",
      "Training inverse alignment model: 50.00%\n",
      "Training inverse alignment model: 50.00%\n",
      "Training inverse alignment model: 58.33%\n",
      "Training inverse alignment model: 66.67%\n",
      "Training inverse alignment model: 75.00%\n",
      "Training inverse alignment model: 83.33%\n",
      "Training inverse alignment model: 91.67%\n",
      "Training inverse alignment model: 100.00%\n",
      "Symmetrized FastAlign model saved\n"
     ]
    }
   ],
   "source": [
    "using System.IO;\n",
    "\n",
    "Directory.CreateDirectory(\"out/VBL-WEB-FASTALIGN\");\n",
    "{\n",
    "    using var srcTrgTrainer = new ThotWordAlignmentModelTrainer(ThotWordAlignmentModelType.FastAlign, parallelCorpus,\n",
    "        \"out/VBL-WEB-FASTALIGN/src_trg\", sourcePreprocessor: TokenProcessors.Lowercase, targetPreprocessor: TokenProcessors.Lowercase);\n",
    "    using var trgSrcTrainer = new ThotWordAlignmentModelTrainer(ThotWordAlignmentModelType.FastAlign,\n",
    "        parallelCorpus.Invert(), \"out/VBL-WEB-FASTALIGN/trg_src\", sourcePreprocessor: TokenProcessors.Lowercase,\n",
    "        targetPreprocessor: TokenProcessors.Lowercase);\n",
    "    using var symmetrizedTrainer = new SymmetrizedWordAlignmentModelTrainer(srcTrgTrainer, trgSrcTrainer);\n",
    "    symmetrizedTrainer.Train(new DelegateProgress(status =>\n",
    "        Console.WriteLine($\"{status.Message}: {status.PercentCompleted:P}\")));\n",
    "    symmetrizedTrainer.Save();\n",
    "    Console.WriteLine(\"Symmetrized FastAlign model saved\");\n",
    "}"
   ]
  },
  {
   "cell_type": "code",
   "execution_count": 4,
   "id": "7e7d8960",
   "metadata": {},
   "outputs": [
    {
     "name": "stdout",
     "output_type": "stream",
     "text": [
      "1JN 1:1\n",
      "Source: Esta carta trata sobre la Palabra de vida que existía desde el principio , que hemos escuchado , que hemos visto con nuestros propios ojos y le hemos contemplado , y que hemos tocado con nuestras manos .\n",
      "Target: That which was from the beginning , that which we have heard , that which we have seen with our eyes , that which we saw , and our hands touched , concerning the Word of life\n",
      "Alignment: 0-0 2-1 4-4 12-5 6-6 8-7 9-8 10-8 15-9 15-10 16-11 13-12 14-13 15-14 15-15 15-16 20-17 21-18 22-19 19-20 18-22 27-23 26-24 27-25 28-26 29-26 30-27 31-28 35-28 32-29 32-30 33-31 37-32 5-34 7-36\n",
      "1JN 1:2\n",
      "Source: Esta Vida nos fue revelada . La vimos y damos testimonio de ella . Estamos hablándoles de Aquél que es la Vida Eterna , que estaba con el Padre , y que nos fue revelado .\n",
      "Target: ( and the life was revealed , and we have seen , and testify , and declare to you the life , the eternal life , which was with the Father , and was revealed to us ) ;\n",
      "Alignment: 0-2 1-3 3-4 3-5 6-6 4-7 5-7 7-7 8-7 2-8 10-11 12-12 11-13 16-13 14-14 15-14 13-15 17-19 19-21 20-22 22-23 21-24 23-25 24-26 25-27 26-28 27-29 28-30 29-31 30-32 33-33 33-34 31-35 32-36 34-37 35-38\n",
      "1JN 1:3\n",
      "Source: Los que hemos visto y oído eso mismo les contamos , para que también puedan participar de esta amistad junto a nosotros . Esta amistad con el Padre y su Hijo Jesucristo .\n",
      "Target: that which we have seen and heard we declare to you , that you also may have fellowship with us . Yes , and our fellowship is with the Father and with his Son , Jesus Christ .\n",
      "Alignment: 1-0 2-1 2-2 2-3 3-4 4-5 5-7 7-8 6-9 8-10 9-10 10-11 11-12 12-12 13-14 14-15 18-17 18-18 21-19 22-20 20-22 24-25 26-26 25-27 23-28 27-29 28-30 29-32 30-33 31-35 31-36 32-37\n",
      "1JN 1:4\n",
      "Source: Escribimos para decirles esto , a fin de que nuestra felicidad sea completa .\n",
      "Target: And we write these things to you , that our joy may be fulfilled .\n",
      "Alignment: 0-0 1-1 2-2 3-3 3-4 5-5 5-6 6-6 4-7 7-7 8-8 8-9 9-10 10-10 10-11 11-12 12-13 13-14\n",
      "1JN 1:5\n",
      "Source: Este es el mensaje que recibimos de él y que nosotros les declaramos a ustedes : Dios es luz , y no hay ningún vestigio de oscuridad en él .\n",
      "Target: This is the message which we have heard from him and announce to you , that God is light , and in him is no darkness at all .\n",
      "Alignment: 0-0 1-1 0-2 2-2 3-3 5-3 4-4 10-5 9-7 6-8 7-9 8-10 12-11 11-12 13-12 14-13 15-14 15-15 16-16 17-17 18-18 19-19 20-20 27-21 28-22 22-23 23-23 24-23 21-24 22-24 26-25 27-26 25-27 29-28\n"
     ]
    }
   ],
   "source": [
    "{\n",
    "    using var srcTrgModel = new ThotFastAlignWordAlignmentModel(\"out/VBL-WEB-FASTALIGN/src_trg\");\n",
    "    using var trgSrcModel = new ThotFastAlignWordAlignmentModel(\"out/VBL-WEB-FASTALIGN/trg_src\");\n",
    "    using var symmetrizedModel1 = new SymmetrizedWordAlignmentModel(srcTrgModel, trgSrcModel)\n",
    "    {\n",
    "        Heuristic = SymmetrizationHeuristic.GrowDiagFinalAnd\n",
    "    };\n",
    "    foreach (ParallelTextSegment textSegment in parallelCorpus.GetSegments().Take(5))\n",
    "    {\n",
    "        var alignment = symmetrizedModel1.GetBestAlignment(TokenProcessors.Lowercase.Process(textSegment.SourceSegment),\n",
    "            TokenProcessors.Lowercase.Process(textSegment.TargetSegment));\n",
    "\n",
    "        var verseRefStr = textSegment.SegmentRef.ToString();\n",
    "        var sourceVerseText = string.Join(\" \", textSegment.SourceSegment);\n",
    "        var targetVerseText = string.Join(\" \", textSegment.TargetSegment);\n",
    "        Console.WriteLine(verseRefStr);\n",
    "        Console.WriteLine($\"Source: {sourceVerseText}\");\n",
    "        Console.WriteLine($\"Target: {targetVerseText}\");\n",
    "        Console.WriteLine($\"Alignment: {alignment}\");\n",
    "    }\n",
    "}"
   ]
  },
  {
   "cell_type": "markdown",
   "id": "a6017951",
   "metadata": {},
   "source": [
    "## Approach 2: don't save model and get alignments"
   ]
  },
  {
   "cell_type": "code",
   "execution_count": 5,
   "id": "3a2d8b90",
   "metadata": {},
   "outputs": [
    {
     "name": "stdout",
     "output_type": "stream",
     "text": [
      "Training FastAlign model: 0.00%\n",
      "Training FastAlign model: 16.67%\n",
      "Training FastAlign model: 33.33%\n",
      "Training FastAlign model: 50.00%\n",
      "Training FastAlign model: 66.67%\n",
      "Training FastAlign model: 83.33%\n",
      "Training FastAlign model: 100.00%\n",
      "Training FastAlign model: 0.00%\n",
      "Training FastAlign model: 16.67%\n",
      "Training FastAlign model: 33.33%\n",
      "Training FastAlign model: 50.00%\n",
      "Training FastAlign model: 66.67%\n",
      "Training FastAlign model: 83.33%\n",
      "Training FastAlign model: 100.00%\n",
      "1JN 1:1\n",
      "Source: Esta carta trata sobre la Palabra de vida que existía desde el principio , que hemos escuchado , que hemos visto con nuestros propios ojos y le hemos contemplado , y que hemos tocado con nuestras manos .\n",
      "Target: That which was from the beginning , that which we have heard , that which we have seen with our eyes , that which we saw , and our hands touched , concerning the Word of life\n",
      "Alignment: 0-0 2-1 4-4 12-5 6-6 8-7 9-8 10-8 15-9 15-10 16-11 13-12 14-13 15-14 15-15 15-16 20-17 21-18 22-19 19-20 18-22 27-23 26-24 27-25 28-26 29-26 30-27 31-28 35-28 32-29 32-30 33-31 37-32 5-34 7-36\n",
      "1JN 1:2\n",
      "Source: Esta Vida nos fue revelada . La vimos y damos testimonio de ella . Estamos hablándoles de Aquél que es la Vida Eterna , que estaba con el Padre , y que nos fue revelado .\n",
      "Target: ( and the life was revealed , and we have seen , and testify , and declare to you the life , the eternal life , which was with the Father , and was revealed to us ) ;\n",
      "Alignment: 0-2 1-3 3-4 3-5 6-6 4-7 5-7 7-7 8-7 2-8 10-11 12-12 11-13 16-13 14-14 15-14 13-15 17-19 19-21 20-22 22-23 21-24 23-25 24-26 25-27 26-28 27-29 28-30 29-31 30-32 33-33 33-34 31-35 32-36 34-37 35-38\n",
      "1JN 1:3\n",
      "Source: Los que hemos visto y oído eso mismo les contamos , para que también puedan participar de esta amistad junto a nosotros . Esta amistad con el Padre y su Hijo Jesucristo .\n",
      "Target: that which we have seen and heard we declare to you , that you also may have fellowship with us . Yes , and our fellowship is with the Father and with his Son , Jesus Christ .\n",
      "Alignment: 1-0 2-1 2-2 2-3 3-4 4-5 5-7 7-8 6-9 8-10 9-10 10-11 11-12 12-12 13-14 14-15 18-17 18-18 21-19 22-20 20-22 24-25 26-26 25-27 23-28 27-29 28-30 29-32 30-33 31-35 31-36 32-37\n",
      "1JN 1:4\n",
      "Source: Escribimos para decirles esto , a fin de que nuestra felicidad sea completa .\n",
      "Target: And we write these things to you , that our joy may be fulfilled .\n",
      "Alignment: 0-0 1-1 2-2 3-3 3-4 5-5 5-6 6-6 4-7 7-7 8-8 8-9 9-10 10-10 10-11 11-12 12-13 13-14\n",
      "1JN 1:5\n",
      "Source: Este es el mensaje que recibimos de él y que nosotros les declaramos a ustedes : Dios es luz , y no hay ningún vestigio de oscuridad en él .\n",
      "Target: This is the message which we have heard from him and announce to you , that God is light , and in him is no darkness at all .\n",
      "Alignment: 0-0 1-1 0-2 2-2 3-3 5-3 4-4 10-5 9-7 6-8 7-9 8-10 12-11 11-12 13-12 14-13 15-14 15-15 16-16 17-17 18-18 19-19 20-20 27-21 28-22 22-23 23-23 24-23 21-24 22-24 26-25 27-26 25-27 29-28\n"
     ]
    }
   ],
   "source": [
    "{\n",
    "    using var srcTrgModel = new ThotFastAlignWordAlignmentModel();\n",
    "    using var trainerSrcTrg = srcTrgModel.CreateTrainer(parallelCorpus, TokenProcessors.Lowercase, TokenProcessors.Lowercase);\n",
    "    trainerSrcTrg.Train(new DelegateProgress(status =>\n",
    "        Console.WriteLine($\"Training FastAlign model: {status.PercentCompleted:P}\")));\n",
    "    trainerSrcTrg.Save();\n",
    "    \n",
    "\n",
    "    using var trgSrcModel = new ThotFastAlignWordAlignmentModel();\n",
    "    using var trainerTrgSrc = trgSrcModel.CreateTrainer(parallelCorpus.Invert(), TokenProcessors.Lowercase, TokenProcessors.Lowercase);\n",
    "    trainerTrgSrc.Train(new DelegateProgress(status =>\n",
    "        Console.WriteLine($\"Training FastAlign model: {status.PercentCompleted:P}\")));\n",
    "    trainerTrgSrc.Save();\n",
    "\n",
    "    \n",
    "    using var symmetrizedModel2 = new SymmetrizedWordAlignmentModel(srcTrgModel, trgSrcModel)\n",
    "    {\n",
    "        Heuristic = SymmetrizationHeuristic.GrowDiagFinalAnd\n",
    "    };\n",
    "    foreach (ParallelTextSegment textSegment in parallelCorpus.GetSegments().Take(5))\n",
    "    {\n",
    "        var alignment = symmetrizedModel2.GetBestAlignment(TokenProcessors.Lowercase.Process(textSegment.SourceSegment),\n",
    "            TokenProcessors.Lowercase.Process(textSegment.TargetSegment));\n",
    "\n",
    "        var verseRefStr = textSegment.SegmentRef.ToString();\n",
    "        var sourceVerseText = string.Join(\" \", textSegment.SourceSegment);\n",
    "        var targetVerseText = string.Join(\" \", textSegment.TargetSegment);\n",
    "        Console.WriteLine(verseRefStr);\n",
    "        Console.WriteLine($\"Source: {sourceVerseText}\");\n",
    "        Console.WriteLine($\"Target: {targetVerseText}\");\n",
    "        Console.WriteLine($\"Alignment: {alignment}\");\n",
    "    }\n",
    "}\n"
   ]
  }
 ],
 "metadata": {
  "kernelspec": {
   "display_name": ".NET (C#)",
   "language": "C#",
   "name": ".net-csharp"
  },
  "language_info": {
   "file_extension": ".cs",
   "mimetype": "text/x-csharp",
   "name": "C#",
   "pygments_lexer": "csharp",
   "version": "9.0"
  }
 },
 "nbformat": 4,
 "nbformat_minor": 5
}
